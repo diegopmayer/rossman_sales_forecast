{
 "cells": [
  {
   "cell_type": "markdown",
   "metadata": {},
   "source": [
    "# Rossmann Sales Forescast"
   ]
  },
  {
   "cell_type": "markdown",
   "metadata": {
    "heading_collapsed": true
   },
   "source": [
    "## 0.0. Imports"
   ]
  },
  {
   "cell_type": "code",
   "execution_count": 1,
   "metadata": {
    "ExecuteTime": {
     "end_time": "2020-06-29T15:26:55.443186Z",
     "start_time": "2020-06-29T15:26:47.816690Z"
    },
    "hidden": true
   },
   "outputs": [],
   "source": [
    "import pandas as pd\n",
    "import inflection\n",
    "import math\n",
    "import datetime\n",
    "\n",
    "import seaborn as sns\n",
    "import matplotlib.pyplot as plt\n",
    "\n",
    "from IPython.core.display import HTML\n",
    "from IPython.display import Image"
   ]
  },
  {
   "cell_type": "markdown",
   "metadata": {
    "heading_collapsed": true,
    "hidden": true
   },
   "source": [
    "### 0.1. Helper Functions"
   ]
  },
  {
   "cell_type": "code",
   "execution_count": 2,
   "metadata": {
    "ExecuteTime": {
     "end_time": "2020-06-29T15:27:01.348297Z",
     "start_time": "2020-06-29T15:27:01.329564Z"
    },
    "hidden": true
   },
   "outputs": [
    {
     "name": "stdout",
     "output_type": "stream",
     "text": [
      "Populating the interactive namespace from numpy and matplotlib\n"
     ]
    },
    {
     "data": {
      "text/html": [
       "<style>.container{width:100% !important; }</style>"
      ],
      "text/plain": [
       "<IPython.core.display.HTML object>"
      ]
     },
     "metadata": {},
     "output_type": "display_data"
    }
   ],
   "source": [
    "def jupyter_settings():\n",
    "    %matplotlib inline\n",
    "    %pylab inline\n",
    "    \n",
    "    plt.style.use('bmh')\n",
    "    plt.rcParams['figure.figsize'] = [25,12]\n",
    "    plt.rcParams['font.size'] = 24\n",
    "    \n",
    "    display( HTML('<style>.container{width:100% !important; }</style>'))\n",
    "    pd.options.display.max_columns = None\n",
    "    pd.options.display.max_rows = None\n",
    "    pd.set_option('display.expand_frame_repr', False)\n",
    "    \n",
    "    sns.set()\n",
    "jupyter_settings()  "
   ]
  },
  {
   "cell_type": "markdown",
   "metadata": {
    "heading_collapsed": true,
    "hidden": true
   },
   "source": [
    "### 0.2 Loading data\n",
    "Font of dataset <a href=\"https://www.kaggle.com/c/rossmann-store-sales/data\">Kaggle Rossmann Dataset</a> and dictionary about colomns"
   ]
  },
  {
   "cell_type": "code",
   "execution_count": 4,
   "metadata": {
    "ExecuteTime": {
     "end_time": "2020-06-29T15:27:15.234001Z",
     "start_time": "2020-06-29T15:27:14.349969Z"
    },
    "hidden": true,
    "scrolled": true
   },
   "outputs": [],
   "source": [
    "# loading datasets file\n",
    "df_sales_raw = pd.read_csv(\"dataset/train.csv\")\n",
    "df_store_raw = pd.read_csv(\"dataset/store.csv\")\n",
    "\n",
    "# merge\n",
    "df_raw = pd.merge(df_sales_raw, df_store_raw, how=\"left\", on='Store')"
   ]
  },
  {
   "cell_type": "markdown",
   "metadata": {},
   "source": [
    "## 1.0. Data Description"
   ]
  },
  {
   "cell_type": "code",
   "execution_count": 5,
   "metadata": {
    "ExecuteTime": {
     "end_time": "2020-06-29T15:27:17.097348Z",
     "start_time": "2020-06-29T15:27:16.867219Z"
    },
    "code_folding": [
     0
    ]
   },
   "outputs": [],
   "source": [
    "# copy data from original data\n",
    "df1 = df_raw.copy()"
   ]
  },
  {
   "cell_type": "markdown",
   "metadata": {
    "heading_collapsed": true
   },
   "source": [
    "### 1.1. Rename Columns"
   ]
  },
  {
   "cell_type": "code",
   "execution_count": 6,
   "metadata": {
    "ExecuteTime": {
     "end_time": "2020-06-29T15:27:31.992185Z",
     "start_time": "2020-06-29T15:27:31.986187Z"
    },
    "hidden": true
   },
   "outputs": [],
   "source": [
    "# get the name of columns\n",
    "cols_old = df1.columns"
   ]
  },
  {
   "cell_type": "markdown",
   "metadata": {
    "hidden": true
   },
   "source": [
    "See the documentation the <a href=\"https://inflection.readthedocs.io/en/latest/\">Inflection Snakecase</a>"
   ]
  },
  {
   "cell_type": "code",
   "execution_count": 7,
   "metadata": {
    "ExecuteTime": {
     "end_time": "2020-06-29T15:27:33.933156Z",
     "start_time": "2020-06-29T15:27:33.924246Z"
    },
    "hidden": true
   },
   "outputs": [],
   "source": [
    "# transform snakecase with inflection\n",
    "snakecase = lambda x: inflection.underscore(x)\n",
    "cols_new = map(snakecase, cols_old)\n",
    "# replace the columns\n",
    "df1.columns = cols_new"
   ]
  },
  {
   "cell_type": "markdown",
   "metadata": {
    "heading_collapsed": true
   },
   "source": [
    "### 1.2. Data Dimensions"
   ]
  },
  {
   "cell_type": "code",
   "execution_count": 8,
   "metadata": {
    "ExecuteTime": {
     "end_time": "2020-06-29T15:27:34.570143Z",
     "start_time": "2020-06-29T15:27:34.560684Z"
    },
    "hidden": true
   },
   "outputs": [
    {
     "name": "stdout",
     "output_type": "stream",
     "text": [
      "Number of Rows: 1017209\n",
      "Number of Columns: 18\n"
     ]
    }
   ],
   "source": [
    "# See the dimensions to know if we have a computing enough to run\n",
    "print(f\"Number of Rows: {df1.shape[0]}\")\n",
    "print(f\"Number of Columns: {df1.shape[1]}\")\n",
    "\n",
    "# In this case ok, my computer can run"
   ]
  },
  {
   "cell_type": "markdown",
   "metadata": {
    "heading_collapsed": true
   },
   "source": [
    "### 1.3. Data Types "
   ]
  },
  {
   "cell_type": "code",
   "execution_count": 9,
   "metadata": {
    "ExecuteTime": {
     "end_time": "2020-06-29T15:27:35.165305Z",
     "start_time": "2020-06-29T15:27:35.148505Z"
    },
    "hidden": true,
    "scrolled": true
   },
   "outputs": [
    {
     "data": {
      "text/plain": [
       "store                             int64\n",
       "day_of_week                       int64\n",
       "date                             object\n",
       "sales                             int64\n",
       "customers                         int64\n",
       "open                              int64\n",
       "promo                             int64\n",
       "state_holiday                    object\n",
       "school_holiday                    int64\n",
       "store_type                       object\n",
       "assortment                       object\n",
       "competition_distance            float64\n",
       "competition_open_since_month    float64\n",
       "competition_open_since_year     float64\n",
       "promo2                            int64\n",
       "promo2_since_week               float64\n",
       "promo2_since_year               float64\n",
       "promo_interval                   object\n",
       "dtype: object"
      ]
     },
     "execution_count": 9,
     "metadata": {},
     "output_type": "execute_result"
    }
   ],
   "source": [
    "# See types of each data and if will be necessary converting or not\n",
    "df1.dtypes"
   ]
  },
  {
   "cell_type": "code",
   "execution_count": 10,
   "metadata": {
    "ExecuteTime": {
     "end_time": "2020-06-29T15:27:35.508324Z",
     "start_time": "2020-06-29T15:27:35.417598Z"
    },
    "hidden": true,
    "scrolled": true
   },
   "outputs": [
    {
     "data": {
      "text/html": [
       "<div>\n",
       "<style scoped>\n",
       "    .dataframe tbody tr th:only-of-type {\n",
       "        vertical-align: middle;\n",
       "    }\n",
       "\n",
       "    .dataframe tbody tr th {\n",
       "        vertical-align: top;\n",
       "    }\n",
       "\n",
       "    .dataframe thead th {\n",
       "        text-align: right;\n",
       "    }\n",
       "</style>\n",
       "<table border=\"1\" class=\"dataframe\">\n",
       "  <thead>\n",
       "    <tr style=\"text-align: right;\">\n",
       "      <th></th>\n",
       "      <th>store</th>\n",
       "      <th>day_of_week</th>\n",
       "      <th>date</th>\n",
       "      <th>sales</th>\n",
       "      <th>customers</th>\n",
       "      <th>open</th>\n",
       "      <th>promo</th>\n",
       "      <th>state_holiday</th>\n",
       "      <th>school_holiday</th>\n",
       "      <th>store_type</th>\n",
       "      <th>assortment</th>\n",
       "      <th>competition_distance</th>\n",
       "      <th>competition_open_since_month</th>\n",
       "      <th>competition_open_since_year</th>\n",
       "      <th>promo2</th>\n",
       "      <th>promo2_since_week</th>\n",
       "      <th>promo2_since_year</th>\n",
       "      <th>promo_interval</th>\n",
       "    </tr>\n",
       "  </thead>\n",
       "  <tbody>\n",
       "    <tr>\n",
       "      <th>0</th>\n",
       "      <td>1</td>\n",
       "      <td>5</td>\n",
       "      <td>2015-07-31</td>\n",
       "      <td>5263</td>\n",
       "      <td>555</td>\n",
       "      <td>1</td>\n",
       "      <td>1</td>\n",
       "      <td>0</td>\n",
       "      <td>1</td>\n",
       "      <td>c</td>\n",
       "      <td>a</td>\n",
       "      <td>1270.0</td>\n",
       "      <td>9.0</td>\n",
       "      <td>2008.0</td>\n",
       "      <td>0</td>\n",
       "      <td>NaN</td>\n",
       "      <td>NaN</td>\n",
       "      <td>NaN</td>\n",
       "    </tr>\n",
       "    <tr>\n",
       "      <th>1</th>\n",
       "      <td>2</td>\n",
       "      <td>5</td>\n",
       "      <td>2015-07-31</td>\n",
       "      <td>6064</td>\n",
       "      <td>625</td>\n",
       "      <td>1</td>\n",
       "      <td>1</td>\n",
       "      <td>0</td>\n",
       "      <td>1</td>\n",
       "      <td>a</td>\n",
       "      <td>a</td>\n",
       "      <td>570.0</td>\n",
       "      <td>11.0</td>\n",
       "      <td>2007.0</td>\n",
       "      <td>1</td>\n",
       "      <td>13.0</td>\n",
       "      <td>2010.0</td>\n",
       "      <td>Jan,Apr,Jul,Oct</td>\n",
       "    </tr>\n",
       "    <tr>\n",
       "      <th>2</th>\n",
       "      <td>3</td>\n",
       "      <td>5</td>\n",
       "      <td>2015-07-31</td>\n",
       "      <td>8314</td>\n",
       "      <td>821</td>\n",
       "      <td>1</td>\n",
       "      <td>1</td>\n",
       "      <td>0</td>\n",
       "      <td>1</td>\n",
       "      <td>a</td>\n",
       "      <td>a</td>\n",
       "      <td>14130.0</td>\n",
       "      <td>12.0</td>\n",
       "      <td>2006.0</td>\n",
       "      <td>1</td>\n",
       "      <td>14.0</td>\n",
       "      <td>2011.0</td>\n",
       "      <td>Jan,Apr,Jul,Oct</td>\n",
       "    </tr>\n",
       "    <tr>\n",
       "      <th>3</th>\n",
       "      <td>4</td>\n",
       "      <td>5</td>\n",
       "      <td>2015-07-31</td>\n",
       "      <td>13995</td>\n",
       "      <td>1498</td>\n",
       "      <td>1</td>\n",
       "      <td>1</td>\n",
       "      <td>0</td>\n",
       "      <td>1</td>\n",
       "      <td>c</td>\n",
       "      <td>c</td>\n",
       "      <td>620.0</td>\n",
       "      <td>9.0</td>\n",
       "      <td>2009.0</td>\n",
       "      <td>0</td>\n",
       "      <td>NaN</td>\n",
       "      <td>NaN</td>\n",
       "      <td>NaN</td>\n",
       "    </tr>\n",
       "    <tr>\n",
       "      <th>4</th>\n",
       "      <td>5</td>\n",
       "      <td>5</td>\n",
       "      <td>2015-07-31</td>\n",
       "      <td>4822</td>\n",
       "      <td>559</td>\n",
       "      <td>1</td>\n",
       "      <td>1</td>\n",
       "      <td>0</td>\n",
       "      <td>1</td>\n",
       "      <td>a</td>\n",
       "      <td>a</td>\n",
       "      <td>29910.0</td>\n",
       "      <td>4.0</td>\n",
       "      <td>2015.0</td>\n",
       "      <td>0</td>\n",
       "      <td>NaN</td>\n",
       "      <td>NaN</td>\n",
       "      <td>NaN</td>\n",
       "    </tr>\n",
       "  </tbody>\n",
       "</table>\n",
       "</div>"
      ],
      "text/plain": [
       "   store  day_of_week        date  sales  customers  open  promo state_holiday  school_holiday store_type assortment  competition_distance  competition_open_since_month  competition_open_since_year  promo2  promo2_since_week  promo2_since_year   promo_interval\n",
       "0      1            5  2015-07-31   5263        555     1      1             0               1          c          a                1270.0                           9.0                       2008.0       0                NaN                NaN              NaN\n",
       "1      2            5  2015-07-31   6064        625     1      1             0               1          a          a                 570.0                          11.0                       2007.0       1               13.0             2010.0  Jan,Apr,Jul,Oct\n",
       "2      3            5  2015-07-31   8314        821     1      1             0               1          a          a               14130.0                          12.0                       2006.0       1               14.0             2011.0  Jan,Apr,Jul,Oct\n",
       "3      4            5  2015-07-31  13995       1498     1      1             0               1          c          c                 620.0                           9.0                       2009.0       0                NaN                NaN              NaN\n",
       "4      5            5  2015-07-31   4822        559     1      1             0               1          a          a               29910.0                           4.0                       2015.0       0                NaN                NaN              NaN"
      ]
     },
     "execution_count": 10,
     "metadata": {},
     "output_type": "execute_result"
    }
   ],
   "source": [
    "# this case we have columns\n",
    "# date = object (must be datetime)\n",
    "# competition_open_since_year = float -> int\n",
    "# competition_open_since_month = float -> int\n",
    "# promo2_since_week = float -> int\n",
    "\n",
    "# It's not possible convert to int because there are NaN, first let's fillna, after I will chage types\n",
    "df1.head()"
   ]
  },
  {
   "cell_type": "code",
   "execution_count": 11,
   "metadata": {
    "ExecuteTime": {
     "end_time": "2020-06-29T15:27:35.822557Z",
     "start_time": "2020-06-29T15:27:35.694132Z"
    },
    "hidden": true
   },
   "outputs": [],
   "source": [
    "# only we will change it's data, because we must have date form to replace NaN the others columns\n",
    "\n",
    "# date from object to datetime\n",
    "df1['date'] = pd.to_datetime(df1.date).copy()"
   ]
  },
  {
   "cell_type": "code",
   "execution_count": 12,
   "metadata": {
    "ExecuteTime": {
     "end_time": "2020-06-29T15:27:36.081674Z",
     "start_time": "2020-06-29T15:27:35.992265Z"
    },
    "hidden": true,
    "scrolled": true
   },
   "outputs": [
    {
     "data": {
      "text/html": [
       "<div>\n",
       "<style scoped>\n",
       "    .dataframe tbody tr th:only-of-type {\n",
       "        vertical-align: middle;\n",
       "    }\n",
       "\n",
       "    .dataframe tbody tr th {\n",
       "        vertical-align: top;\n",
       "    }\n",
       "\n",
       "    .dataframe thead th {\n",
       "        text-align: right;\n",
       "    }\n",
       "</style>\n",
       "<table border=\"1\" class=\"dataframe\">\n",
       "  <thead>\n",
       "    <tr style=\"text-align: right;\">\n",
       "      <th></th>\n",
       "      <th>store</th>\n",
       "      <th>day_of_week</th>\n",
       "      <th>date</th>\n",
       "      <th>sales</th>\n",
       "      <th>customers</th>\n",
       "      <th>open</th>\n",
       "      <th>promo</th>\n",
       "      <th>state_holiday</th>\n",
       "      <th>school_holiday</th>\n",
       "      <th>store_type</th>\n",
       "      <th>assortment</th>\n",
       "      <th>competition_distance</th>\n",
       "      <th>competition_open_since_month</th>\n",
       "      <th>competition_open_since_year</th>\n",
       "      <th>promo2</th>\n",
       "      <th>promo2_since_week</th>\n",
       "      <th>promo2_since_year</th>\n",
       "      <th>promo_interval</th>\n",
       "    </tr>\n",
       "  </thead>\n",
       "  <tbody>\n",
       "    <tr>\n",
       "      <th>628901</th>\n",
       "      <td>827</td>\n",
       "      <td>7</td>\n",
       "      <td>2013-12-15</td>\n",
       "      <td>0</td>\n",
       "      <td>0</td>\n",
       "      <td>0</td>\n",
       "      <td>0</td>\n",
       "      <td>0</td>\n",
       "      <td>0</td>\n",
       "      <td>a</td>\n",
       "      <td>c</td>\n",
       "      <td>250.0</td>\n",
       "      <td>1.0</td>\n",
       "      <td>2005.0</td>\n",
       "      <td>0</td>\n",
       "      <td>NaN</td>\n",
       "      <td>NaN</td>\n",
       "      <td>NaN</td>\n",
       "    </tr>\n",
       "    <tr>\n",
       "      <th>340985</th>\n",
       "      <td>981</td>\n",
       "      <td>4</td>\n",
       "      <td>2014-09-11</td>\n",
       "      <td>5957</td>\n",
       "      <td>662</td>\n",
       "      <td>1</td>\n",
       "      <td>0</td>\n",
       "      <td>0</td>\n",
       "      <td>0</td>\n",
       "      <td>d</td>\n",
       "      <td>c</td>\n",
       "      <td>2620.0</td>\n",
       "      <td>11.0</td>\n",
       "      <td>2002.0</td>\n",
       "      <td>0</td>\n",
       "      <td>NaN</td>\n",
       "      <td>NaN</td>\n",
       "      <td>NaN</td>\n",
       "    </tr>\n",
       "    <tr>\n",
       "      <th>787088</th>\n",
       "      <td>684</td>\n",
       "      <td>5</td>\n",
       "      <td>2013-07-26</td>\n",
       "      <td>5644</td>\n",
       "      <td>501</td>\n",
       "      <td>1</td>\n",
       "      <td>0</td>\n",
       "      <td>0</td>\n",
       "      <td>0</td>\n",
       "      <td>d</td>\n",
       "      <td>c</td>\n",
       "      <td>680.0</td>\n",
       "      <td>NaN</td>\n",
       "      <td>NaN</td>\n",
       "      <td>1</td>\n",
       "      <td>22.0</td>\n",
       "      <td>2012.0</td>\n",
       "      <td>Jan,Apr,Jul,Oct</td>\n",
       "    </tr>\n",
       "    <tr>\n",
       "      <th>455555</th>\n",
       "      <td>306</td>\n",
       "      <td>1</td>\n",
       "      <td>2014-05-19</td>\n",
       "      <td>5819</td>\n",
       "      <td>571</td>\n",
       "      <td>1</td>\n",
       "      <td>1</td>\n",
       "      <td>0</td>\n",
       "      <td>0</td>\n",
       "      <td>a</td>\n",
       "      <td>a</td>\n",
       "      <td>5100.0</td>\n",
       "      <td>4.0</td>\n",
       "      <td>2007.0</td>\n",
       "      <td>1</td>\n",
       "      <td>40.0</td>\n",
       "      <td>2014.0</td>\n",
       "      <td>Jan,Apr,Jul,Oct</td>\n",
       "    </tr>\n",
       "    <tr>\n",
       "      <th>673882</th>\n",
       "      <td>93</td>\n",
       "      <td>1</td>\n",
       "      <td>2013-11-04</td>\n",
       "      <td>8547</td>\n",
       "      <td>768</td>\n",
       "      <td>1</td>\n",
       "      <td>1</td>\n",
       "      <td>0</td>\n",
       "      <td>0</td>\n",
       "      <td>a</td>\n",
       "      <td>a</td>\n",
       "      <td>16690.0</td>\n",
       "      <td>NaN</td>\n",
       "      <td>NaN</td>\n",
       "      <td>1</td>\n",
       "      <td>14.0</td>\n",
       "      <td>2011.0</td>\n",
       "      <td>Jan,Apr,Jul,Oct</td>\n",
       "    </tr>\n",
       "  </tbody>\n",
       "</table>\n",
       "</div>"
      ],
      "text/plain": [
       "        store  day_of_week       date  sales  customers  open  promo state_holiday  school_holiday store_type assortment  competition_distance  competition_open_since_month  competition_open_since_year  promo2  promo2_since_week  promo2_since_year   promo_interval\n",
       "628901    827            7 2013-12-15      0          0     0      0             0               0          a          c                 250.0                           1.0                       2005.0       0                NaN                NaN              NaN\n",
       "340985    981            4 2014-09-11   5957        662     1      0             0               0          d          c                2620.0                          11.0                       2002.0       0                NaN                NaN              NaN\n",
       "787088    684            5 2013-07-26   5644        501     1      0             0               0          d          c                 680.0                           NaN                          NaN       1               22.0             2012.0  Jan,Apr,Jul,Oct\n",
       "455555    306            1 2014-05-19   5819        571     1      1             0               0          a          a                5100.0                           4.0                       2007.0       1               40.0             2014.0  Jan,Apr,Jul,Oct\n",
       "673882     93            1 2013-11-04   8547        768     1      1             0               0          a          a               16690.0                           NaN                          NaN       1               14.0             2011.0  Jan,Apr,Jul,Oct"
      ]
     },
     "execution_count": 12,
     "metadata": {},
     "output_type": "execute_result"
    }
   ],
   "source": [
    "df1.sample(5)"
   ]
  },
  {
   "cell_type": "code",
   "execution_count": 13,
   "metadata": {
    "ExecuteTime": {
     "end_time": "2020-06-29T15:27:36.258257Z",
     "start_time": "2020-06-29T15:27:36.247645Z"
    },
    "hidden": true
   },
   "outputs": [
    {
     "data": {
      "text/plain": [
       "store                                    int64\n",
       "day_of_week                              int64\n",
       "date                            datetime64[ns]\n",
       "sales                                    int64\n",
       "customers                                int64\n",
       "open                                     int64\n",
       "promo                                    int64\n",
       "state_holiday                           object\n",
       "school_holiday                           int64\n",
       "store_type                              object\n",
       "assortment                              object\n",
       "competition_distance                   float64\n",
       "competition_open_since_month           float64\n",
       "competition_open_since_year            float64\n",
       "promo2                                   int64\n",
       "promo2_since_week                      float64\n",
       "promo2_since_year                      float64\n",
       "promo_interval                          object\n",
       "dtype: object"
      ]
     },
     "execution_count": 13,
     "metadata": {},
     "output_type": "execute_result"
    }
   ],
   "source": [
    "df1.dtypes"
   ]
  },
  {
   "cell_type": "markdown",
   "metadata": {
    "heading_collapsed": true
   },
   "source": [
    "### 1.4. Check NaN "
   ]
  },
  {
   "cell_type": "code",
   "execution_count": 14,
   "metadata": {
    "ExecuteTime": {
     "end_time": "2020-06-29T15:27:37.006301Z",
     "start_time": "2020-06-29T15:27:36.793223Z"
    },
    "hidden": true
   },
   "outputs": [
    {
     "data": {
      "text/plain": [
       "store                                0\n",
       "day_of_week                          0\n",
       "date                                 0\n",
       "sales                                0\n",
       "customers                            0\n",
       "open                                 0\n",
       "promo                                0\n",
       "state_holiday                        0\n",
       "school_holiday                       0\n",
       "store_type                           0\n",
       "assortment                           0\n",
       "competition_distance              2642\n",
       "competition_open_since_month    323348\n",
       "competition_open_since_year     323348\n",
       "promo2                               0\n",
       "promo2_since_week               508031\n",
       "promo2_since_year               508031\n",
       "promo_interval                  508031\n",
       "dtype: int64"
      ]
     },
     "execution_count": 14,
     "metadata": {},
     "output_type": "execute_result"
    }
   ],
   "source": [
    "df1.isna().sum()"
   ]
  },
  {
   "cell_type": "markdown",
   "metadata": {
    "heading_collapsed": true
   },
   "source": [
    "### 1.5. Fillout NaN"
   ]
  },
  {
   "cell_type": "markdown",
   "metadata": {
    "heading_collapsed": true,
    "hidden": true
   },
   "source": [
    "#### 1.5.0 Review"
   ]
  },
  {
   "cell_type": "markdown",
   "metadata": {
    "ExecuteTime": {
     "end_time": "2020-06-25T18:11:07.421516Z",
     "start_time": "2020-06-25T18:11:07.374583Z"
    },
    "hidden": true
   },
   "source": [
    "    competition_distance\n",
    "    If the competitors is nan, maybe there aren't competitors closer, others words, they are so far a way, well, \n",
    "    this case make a sence replace the value up the max value it's the same, but with values\n",
    "        max() == 75860.0 I will replace to 200000.0\n",
    "\n",
    "    competition_open_since_month\n",
    "    competition_open_since_year\n",
    "    promo2_since_week\n",
    "    promo2_since_year\n",
    "        This options above we will get from date the year, month and week to try the first solution, because\n",
    "        there are many NaN and we will replace from date\n",
    "        \n",
    "    promo_interval\n",
    "        If this columns contains any informations, it means that the store joined the promo2 else if this columns\n",
    "        is empt it means that the store not joined the promo2, I will make comparison between \n",
    "        promo_interval and month from date, when if month contain in promo_interval it means promo2 == 1 else \n",
    "        promo2 == 0"
   ]
  },
  {
   "cell_type": "markdown",
   "metadata": {
    "heading_collapsed": true,
    "hidden": true
   },
   "source": [
    "#### 1.5.1. competition_distance"
   ]
  },
  {
   "cell_type": "code",
   "execution_count": 15,
   "metadata": {
    "ExecuteTime": {
     "end_time": "2020-06-29T15:27:38.027373Z",
     "start_time": "2020-06-29T15:27:38.002459Z"
    },
    "code_folding": [
     0
    ],
    "hidden": true
   },
   "outputs": [],
   "source": [
    "# Getting the max value from columns\n",
    "max_value = df1['competition_distance'].max()\n",
    "# calculate base on 200000.0 to automate % and rounded to up\n",
    "val_repl_comp_dist = round(\n",
    "    ((((200000.0 - max_value) / max_value) + 1) * max_value))\n",
    "# replace the NaN to 200000.0 or defaut % up from max()\n",
    "df1['competition_distance'] = df1['competition_distance'].fillna(\n",
    "    val_repl_comp_dist)"
   ]
  },
  {
   "cell_type": "code",
   "execution_count": 16,
   "metadata": {
    "ExecuteTime": {
     "end_time": "2020-06-29T15:27:38.256451Z",
     "start_time": "2020-06-29T15:27:38.247627Z"
    },
    "hidden": true
   },
   "outputs": [],
   "source": [
    "# this way it's harder than fillna() and lesser performance\n",
    "    # df1['competition_distance'].apply(lambda x: 200000 if math.isnan(x) == True else x)"
   ]
  },
  {
   "cell_type": "markdown",
   "metadata": {
    "heading_collapsed": true,
    "hidden": true
   },
   "source": [
    "#### 1.5.2. competition_open_since_month \n",
    "    competition_open_since_year\n",
    "    promo2_since_week\n",
    "    promo2_since_year"
   ]
  },
  {
   "cell_type": "code",
   "execution_count": 17,
   "metadata": {
    "ExecuteTime": {
     "end_time": "2020-06-29T15:27:38.820815Z",
     "start_time": "2020-06-29T15:27:38.812306Z"
    },
    "code_folding": [
     0
    ],
    "hidden": true
   },
   "outputs": [],
   "source": [
    "# Second Cycle\n",
    "# the solution that Meigaron had it's not a ideal, because if you seeing the index == 522152 bellow\n",
    "# see that imagine if competition had been NaN, the data is:\n",
    "#  \t date    \tday_of_week \tcompetition_open_since_month \tcompetition_open_since_year \tpromo2_since_week \tpromo2_since_year\n",
    "# 2014-03-20  \t    4       \t           3.0              \t         2014.0             \t       3.0      \t     2014\n",
    "# as you see, all diferent from the real, but to first solution, we will be try, after we will try other way\n",
    "\n",
    "# see at bellow code\n",
    "#df1[['date', 'day_of_week', 'competition_open_since_month', \n",
    "#    'competition_open_since_year', 'promo2_since_week', \n",
    "#    'promo2_since_year']][df1.index == 522152]"
   ]
  },
  {
   "cell_type": "code",
   "execution_count": 18,
   "metadata": {
    "ExecuteTime": {
     "end_time": "2020-06-29T15:27:39.533657Z",
     "start_time": "2020-06-29T15:27:39.052942Z"
    },
    "hidden": true
   },
   "outputs": [],
   "source": [
    "# replacing the NaN with day, week, month and year from date, it's suppose to date\n",
    "# is beggining the competition between sotores\n",
    "\n",
    "# competition_open_since_month\n",
    "df1['competition_open_since_month'] = df1[\n",
    "    'competition_open_since_month'].fillna(df1.date.dt.month)\n",
    "\n",
    "# competition_open_since_year\n",
    "df1['competition_open_since_year'] = df1[\n",
    "    'competition_open_since_year'].fillna(df1.date.dt.year)\n",
    "\n",
    "# promo2_since_week\n",
    "df1['promo2_since_week'] = df1['promo2_since_week'].fillna(\n",
    "    df1.date.dt.dayofweek)\n",
    "\n",
    "# promo2_since_year\n",
    "df1['promo2_since_year'] = df1['promo2_since_year'].fillna(\n",
    "    df1.date.dt.year)"
   ]
  },
  {
   "cell_type": "markdown",
   "metadata": {
    "heading_collapsed": true,
    "hidden": true
   },
   "source": [
    "#### 1.5.3. promo_interval"
   ]
  },
  {
   "cell_type": "code",
   "execution_count": 19,
   "metadata": {
    "ExecuteTime": {
     "end_time": "2020-06-29T15:28:01.127918Z",
     "start_time": "2020-06-29T15:27:39.577405Z"
    },
    "hidden": true
   },
   "outputs": [],
   "source": [
    "# this map is to replace number to your value, exemple, 2:'Feb' where has the number 2 will be replace to 'Feb'\n",
    "month_map = {\n",
    "    1:'Jan', 2:'Feb', 3:'Mar', 4:'Apr', 5:'May', 6:'Jun', \n",
    "    7:'Jul', 8:'Aug', 9:'Sep', 10:'Oct', 11:'Nov', 12:'Dec'\n",
    "}\n",
    "# replace number to month name with map()\n",
    "df1['month_map'] = df1['date'].dt.month.map(month_map)\n",
    "\n",
    "# replace the NaN to zero \"0\" at the column promo_interval\n",
    "df1['promo_interval'].fillna(0, inplace=True)\n",
    "\n",
    "# run each line and it's verify if month_map contains in promo_interval\n",
    "# return 1 to new columns ['is_promo']\n",
    "df1['is_promo'] = df1[['promo_interval', 'month_map']].apply(\n",
    "    lambda x: 0 if x['promo_interval'] == 0 else 1 if x['month_map'] in\n",
    "    x['promo_interval'].split(',') else 0, axis=1)"
   ]
  },
  {
   "cell_type": "code",
   "execution_count": 20,
   "metadata": {
    "ExecuteTime": {
     "end_time": "2020-06-29T15:28:01.135055Z",
     "start_time": "2020-06-29T15:28:01.129483Z"
    },
    "code_folding": [
     0
    ],
    "hidden": true
   },
   "outputs": [],
   "source": [
    "# Second Cycle\n",
    "\n",
    "# df1.sample(10)\n",
    "# first of all we will replace the promo_interval to number or..\n",
    "# create a new column with month name and compare\n",
    "\n",
    "# this head will be to view a comparation before than after alteration and see if run\n",
    "#df1.head(20)\n",
    "\n",
    "# see if the value in month_map contains in promo_interval if is true than replace promo2 to 1 else\n",
    "# replace to 0\n",
    "#df1['is_promo'] = df1[['promo2', 'promo_interval', 'month_map']].apply(\n",
    "#    lambda x: 1 if x['promo2'] == 1 else 1 if x['month_map'] in str(x['promo_interval']).split(',') else 0, axis=1)\n",
    "\n",
    "# this is the next cycle, because I think that the Meigaron Ideia it's not right, but we will run the way\n",
    "# from him and after run this solution and compere the score between them.\n",
    "#df1[['date', 'promo', 'promo2', 'promo2_since_year', \n",
    "#     'promo_interval', 'month_map', 'is_promo']][df1.index == 12]"
   ]
  },
  {
   "cell_type": "markdown",
   "metadata": {
    "heading_collapsed": true
   },
   "source": [
    "### 1.6. Change Types"
   ]
  },
  {
   "cell_type": "code",
   "execution_count": 21,
   "metadata": {
    "ExecuteTime": {
     "end_time": "2020-06-29T15:28:01.277015Z",
     "start_time": "2020-06-29T15:28:01.137320Z"
    },
    "code_folding": [
     5
    ],
    "hidden": true
   },
   "outputs": [],
   "source": [
    "# convert object to integer\n",
    "df1['competition_open_since_month'] = df1[\n",
    "    'competition_open_since_month'].astype(int)\n",
    "\n",
    "# convert object to integer\n",
    "df1['competition_open_since_year'] = df1[\n",
    "    'competition_open_since_year'].astype(int)\n",
    "\n",
    "# convert object to integer\n",
    "df1['promo2_since_week'] = df1['promo2_since_week'].astype(int)\n",
    "\n",
    "# convert object to integer\n",
    "df1['promo2_since_year'] = df1['promo2_since_year'].astype(int)"
   ]
  },
  {
   "cell_type": "markdown",
   "metadata": {},
   "source": [
    "### 1.7. Descriptive Statistical"
   ]
  },
  {
   "cell_type": "code",
   "execution_count": 22,
   "metadata": {
    "ExecuteTime": {
     "end_time": "2020-06-29T15:28:01.309334Z",
     "start_time": "2020-06-29T15:28:01.278969Z"
    },
    "code_folding": [
     0
    ]
   },
   "outputs": [
    {
     "data": {
      "text/plain": [
       "int64             13\n",
       "object             5\n",
       "float64            1\n",
       "datetime64[ns]     1\n",
       "dtype: int64"
      ]
     },
     "execution_count": 22,
     "metadata": {},
     "output_type": "execute_result"
    }
   ],
   "source": [
    "# Slicing datatype by numerical and categorical data, first of all we need see dtypes\n",
    "\n",
    "# to show kind of dtypes\n",
    "df1.dtypes.value_counts()"
   ]
  },
  {
   "cell_type": "code",
   "execution_count": 23,
   "metadata": {
    "ExecuteTime": {
     "end_time": "2020-06-29T15:28:01.531454Z",
     "start_time": "2020-06-29T15:28:01.311561Z"
    }
   },
   "outputs": [],
   "source": [
    "num_attributes = df1.select_dtypes(include=['int64', 'float64'])\n",
    "cat_attributes = df1.select_dtypes(\n",
    "    exclude=['int64', 'float64', 'datetime64[ns]'])"
   ]
  },
  {
   "cell_type": "markdown",
   "metadata": {
    "heading_collapsed": true
   },
   "source": [
    "#### 1.7.1 Numerical"
   ]
  },
  {
   "cell_type": "code",
   "execution_count": 24,
   "metadata": {
    "ExecuteTime": {
     "end_time": "2020-06-29T15:29:48.193467Z",
     "start_time": "2020-06-29T15:29:47.675795Z"
    },
    "hidden": true
   },
   "outputs": [
    {
     "data": {
      "text/html": [
       "<div>\n",
       "<style scoped>\n",
       "    .dataframe tbody tr th:only-of-type {\n",
       "        vertical-align: middle;\n",
       "    }\n",
       "\n",
       "    .dataframe tbody tr th {\n",
       "        vertical-align: top;\n",
       "    }\n",
       "\n",
       "    .dataframe thead th {\n",
       "        text-align: right;\n",
       "    }\n",
       "</style>\n",
       "<table border=\"1\" class=\"dataframe\">\n",
       "  <thead>\n",
       "    <tr style=\"text-align: right;\">\n",
       "      <th></th>\n",
       "      <th>count</th>\n",
       "      <th>mean</th>\n",
       "      <th>std</th>\n",
       "      <th>min</th>\n",
       "      <th>25%</th>\n",
       "      <th>50%</th>\n",
       "      <th>75%</th>\n",
       "      <th>max</th>\n",
       "    </tr>\n",
       "  </thead>\n",
       "  <tbody>\n",
       "    <tr>\n",
       "      <th>store</th>\n",
       "      <td>1017209.0</td>\n",
       "      <td>558.429727</td>\n",
       "      <td>321.908651</td>\n",
       "      <td>1.0</td>\n",
       "      <td>280.0</td>\n",
       "      <td>558.0</td>\n",
       "      <td>838.0</td>\n",
       "      <td>1115.0</td>\n",
       "    </tr>\n",
       "    <tr>\n",
       "      <th>day_of_week</th>\n",
       "      <td>1017209.0</td>\n",
       "      <td>3.998341</td>\n",
       "      <td>1.997391</td>\n",
       "      <td>1.0</td>\n",
       "      <td>2.0</td>\n",
       "      <td>4.0</td>\n",
       "      <td>6.0</td>\n",
       "      <td>7.0</td>\n",
       "    </tr>\n",
       "    <tr>\n",
       "      <th>sales</th>\n",
       "      <td>1017209.0</td>\n",
       "      <td>5773.818972</td>\n",
       "      <td>3849.926175</td>\n",
       "      <td>0.0</td>\n",
       "      <td>3727.0</td>\n",
       "      <td>5744.0</td>\n",
       "      <td>7856.0</td>\n",
       "      <td>41551.0</td>\n",
       "    </tr>\n",
       "    <tr>\n",
       "      <th>customers</th>\n",
       "      <td>1017209.0</td>\n",
       "      <td>633.145946</td>\n",
       "      <td>464.411734</td>\n",
       "      <td>0.0</td>\n",
       "      <td>405.0</td>\n",
       "      <td>609.0</td>\n",
       "      <td>837.0</td>\n",
       "      <td>7388.0</td>\n",
       "    </tr>\n",
       "    <tr>\n",
       "      <th>open</th>\n",
       "      <td>1017209.0</td>\n",
       "      <td>0.830107</td>\n",
       "      <td>0.375539</td>\n",
       "      <td>0.0</td>\n",
       "      <td>1.0</td>\n",
       "      <td>1.0</td>\n",
       "      <td>1.0</td>\n",
       "      <td>1.0</td>\n",
       "    </tr>\n",
       "    <tr>\n",
       "      <th>promo</th>\n",
       "      <td>1017209.0</td>\n",
       "      <td>0.381515</td>\n",
       "      <td>0.485759</td>\n",
       "      <td>0.0</td>\n",
       "      <td>0.0</td>\n",
       "      <td>0.0</td>\n",
       "      <td>1.0</td>\n",
       "      <td>1.0</td>\n",
       "    </tr>\n",
       "    <tr>\n",
       "      <th>school_holiday</th>\n",
       "      <td>1017209.0</td>\n",
       "      <td>0.178647</td>\n",
       "      <td>0.383056</td>\n",
       "      <td>0.0</td>\n",
       "      <td>0.0</td>\n",
       "      <td>0.0</td>\n",
       "      <td>0.0</td>\n",
       "      <td>1.0</td>\n",
       "    </tr>\n",
       "    <tr>\n",
       "      <th>competition_distance</th>\n",
       "      <td>1017209.0</td>\n",
       "      <td>5935.442677</td>\n",
       "      <td>12547.652996</td>\n",
       "      <td>20.0</td>\n",
       "      <td>710.0</td>\n",
       "      <td>2330.0</td>\n",
       "      <td>6910.0</td>\n",
       "      <td>200000.0</td>\n",
       "    </tr>\n",
       "    <tr>\n",
       "      <th>competition_open_since_month</th>\n",
       "      <td>1017209.0</td>\n",
       "      <td>6.786849</td>\n",
       "      <td>3.311087</td>\n",
       "      <td>1.0</td>\n",
       "      <td>4.0</td>\n",
       "      <td>7.0</td>\n",
       "      <td>10.0</td>\n",
       "      <td>12.0</td>\n",
       "    </tr>\n",
       "    <tr>\n",
       "      <th>competition_open_since_year</th>\n",
       "      <td>1017209.0</td>\n",
       "      <td>2010.324840</td>\n",
       "      <td>5.515593</td>\n",
       "      <td>1900.0</td>\n",
       "      <td>2008.0</td>\n",
       "      <td>2012.0</td>\n",
       "      <td>2014.0</td>\n",
       "      <td>2015.0</td>\n",
       "    </tr>\n",
       "    <tr>\n",
       "      <th>promo2</th>\n",
       "      <td>1017209.0</td>\n",
       "      <td>0.500564</td>\n",
       "      <td>0.500000</td>\n",
       "      <td>0.0</td>\n",
       "      <td>0.0</td>\n",
       "      <td>1.0</td>\n",
       "      <td>1.0</td>\n",
       "      <td>1.0</td>\n",
       "    </tr>\n",
       "    <tr>\n",
       "      <th>promo2_since_week</th>\n",
       "      <td>1017209.0</td>\n",
       "      <td>13.144977</td>\n",
       "      <td>14.289221</td>\n",
       "      <td>0.0</td>\n",
       "      <td>3.0</td>\n",
       "      <td>6.0</td>\n",
       "      <td>22.0</td>\n",
       "      <td>50.0</td>\n",
       "    </tr>\n",
       "    <tr>\n",
       "      <th>promo2_since_year</th>\n",
       "      <td>1017209.0</td>\n",
       "      <td>2012.793297</td>\n",
       "      <td>1.662658</td>\n",
       "      <td>2009.0</td>\n",
       "      <td>2012.0</td>\n",
       "      <td>2013.0</td>\n",
       "      <td>2014.0</td>\n",
       "      <td>2015.0</td>\n",
       "    </tr>\n",
       "    <tr>\n",
       "      <th>is_promo</th>\n",
       "      <td>1017209.0</td>\n",
       "      <td>0.165966</td>\n",
       "      <td>0.372050</td>\n",
       "      <td>0.0</td>\n",
       "      <td>0.0</td>\n",
       "      <td>0.0</td>\n",
       "      <td>0.0</td>\n",
       "      <td>1.0</td>\n",
       "    </tr>\n",
       "  </tbody>\n",
       "</table>\n",
       "</div>"
      ],
      "text/plain": [
       "                                  count         mean           std     min     25%     50%     75%       max\n",
       "store                         1017209.0   558.429727    321.908651     1.0   280.0   558.0   838.0    1115.0\n",
       "day_of_week                   1017209.0     3.998341      1.997391     1.0     2.0     4.0     6.0       7.0\n",
       "sales                         1017209.0  5773.818972   3849.926175     0.0  3727.0  5744.0  7856.0   41551.0\n",
       "customers                     1017209.0   633.145946    464.411734     0.0   405.0   609.0   837.0    7388.0\n",
       "open                          1017209.0     0.830107      0.375539     0.0     1.0     1.0     1.0       1.0\n",
       "promo                         1017209.0     0.381515      0.485759     0.0     0.0     0.0     1.0       1.0\n",
       "school_holiday                1017209.0     0.178647      0.383056     0.0     0.0     0.0     0.0       1.0\n",
       "competition_distance          1017209.0  5935.442677  12547.652996    20.0   710.0  2330.0  6910.0  200000.0\n",
       "competition_open_since_month  1017209.0     6.786849      3.311087     1.0     4.0     7.0    10.0      12.0\n",
       "competition_open_since_year   1017209.0  2010.324840      5.515593  1900.0  2008.0  2012.0  2014.0    2015.0\n",
       "promo2                        1017209.0     0.500564      0.500000     0.0     0.0     1.0     1.0       1.0\n",
       "promo2_since_week             1017209.0    13.144977     14.289221     0.0     3.0     6.0    22.0      50.0\n",
       "promo2_since_year             1017209.0  2012.793297      1.662658  2009.0  2012.0  2013.0  2014.0    2015.0\n",
       "is_promo                      1017209.0     0.165966      0.372050     0.0     0.0     0.0     0.0       1.0"
      ]
     },
     "execution_count": 24,
     "metadata": {},
     "output_type": "execute_result"
    }
   ],
   "source": [
    "num_attributes.describe().T"
   ]
  },
  {
   "cell_type": "code",
   "execution_count": 25,
   "metadata": {
    "ExecuteTime": {
     "end_time": "2020-06-29T15:29:49.113022Z",
     "start_time": "2020-06-29T15:29:48.501437Z"
    },
    "hidden": true,
    "scrolled": true
   },
   "outputs": [],
   "source": [
    "# Central Tendency - mean, median\n",
    "ct_mean = pd.DataFrame(num_attributes.mean())\n",
    "ct_median = pd.DataFrame(num_attributes.median())"
   ]
  },
  {
   "cell_type": "code",
   "execution_count": 26,
   "metadata": {
    "ExecuteTime": {
     "end_time": "2020-06-29T15:29:50.430851Z",
     "start_time": "2020-06-29T15:29:49.115192Z"
    },
    "hidden": true
   },
   "outputs": [],
   "source": [
    "# Dispersion - std, min, max, range, skew, kurtosis\n",
    "\n",
    "d_std = pd.DataFrame(num_attributes.std())\n",
    "d_min = pd.DataFrame(num_attributes.min())\n",
    "d_max = pd.DataFrame(num_attributes.max())\n",
    "d_range = pd.DataFrame(d_max - d_min)\n",
    "d_skew = pd.DataFrame(num_attributes.skew())\n",
    "d_kurtosis = pd.DataFrame(num_attributes.kurtosis())"
   ]
  },
  {
   "cell_type": "code",
   "execution_count": 27,
   "metadata": {
    "ExecuteTime": {
     "end_time": "2020-06-29T15:29:50.445653Z",
     "start_time": "2020-06-29T15:29:50.433178Z"
    },
    "hidden": true,
    "scrolled": false
   },
   "outputs": [],
   "source": [
    "# Concatenation Metrics\n",
    "metrics = pd.concat(\n",
    "    [d_min, d_max, d_range, ct_mean, ct_median, d_std, d_skew, d_kurtosis],\n",
    "    axis=1).reset_index()\n",
    "\n",
    "metrics.columns = [\n",
    "    'attributes', 'min', 'max', 'range', 'mean', 'median', 'std', 'skew',\n",
    "    'kurtosis'\n",
    "]"
   ]
  },
  {
   "cell_type": "code",
   "execution_count": 28,
   "metadata": {
    "ExecuteTime": {
     "end_time": "2020-06-29T15:29:50.554299Z",
     "start_time": "2020-06-29T15:29:50.513278Z"
    },
    "hidden": true
   },
   "outputs": [
    {
     "data": {
      "text/html": [
       "<div>\n",
       "<style scoped>\n",
       "    .dataframe tbody tr th:only-of-type {\n",
       "        vertical-align: middle;\n",
       "    }\n",
       "\n",
       "    .dataframe tbody tr th {\n",
       "        vertical-align: top;\n",
       "    }\n",
       "\n",
       "    .dataframe thead th {\n",
       "        text-align: right;\n",
       "    }\n",
       "</style>\n",
       "<table border=\"1\" class=\"dataframe\">\n",
       "  <thead>\n",
       "    <tr style=\"text-align: right;\">\n",
       "      <th></th>\n",
       "      <th>attributes</th>\n",
       "      <th>min</th>\n",
       "      <th>max</th>\n",
       "      <th>range</th>\n",
       "      <th>mean</th>\n",
       "      <th>median</th>\n",
       "      <th>std</th>\n",
       "      <th>skew</th>\n",
       "      <th>kurtosis</th>\n",
       "    </tr>\n",
       "  </thead>\n",
       "  <tbody>\n",
       "    <tr>\n",
       "      <th>0</th>\n",
       "      <td>store</td>\n",
       "      <td>1.0</td>\n",
       "      <td>1115.0</td>\n",
       "      <td>1114.0</td>\n",
       "      <td>558.429727</td>\n",
       "      <td>558.0</td>\n",
       "      <td>321.908651</td>\n",
       "      <td>-0.000955</td>\n",
       "      <td>-1.200524</td>\n",
       "    </tr>\n",
       "    <tr>\n",
       "      <th>1</th>\n",
       "      <td>day_of_week</td>\n",
       "      <td>1.0</td>\n",
       "      <td>7.0</td>\n",
       "      <td>6.0</td>\n",
       "      <td>3.998341</td>\n",
       "      <td>4.0</td>\n",
       "      <td>1.997391</td>\n",
       "      <td>0.001593</td>\n",
       "      <td>-1.246873</td>\n",
       "    </tr>\n",
       "    <tr>\n",
       "      <th>2</th>\n",
       "      <td>sales</td>\n",
       "      <td>0.0</td>\n",
       "      <td>41551.0</td>\n",
       "      <td>41551.0</td>\n",
       "      <td>5773.818972</td>\n",
       "      <td>5744.0</td>\n",
       "      <td>3849.926175</td>\n",
       "      <td>0.641460</td>\n",
       "      <td>1.778375</td>\n",
       "    </tr>\n",
       "    <tr>\n",
       "      <th>3</th>\n",
       "      <td>customers</td>\n",
       "      <td>0.0</td>\n",
       "      <td>7388.0</td>\n",
       "      <td>7388.0</td>\n",
       "      <td>633.145946</td>\n",
       "      <td>609.0</td>\n",
       "      <td>464.411734</td>\n",
       "      <td>1.598650</td>\n",
       "      <td>7.091773</td>\n",
       "    </tr>\n",
       "    <tr>\n",
       "      <th>4</th>\n",
       "      <td>open</td>\n",
       "      <td>0.0</td>\n",
       "      <td>1.0</td>\n",
       "      <td>1.0</td>\n",
       "      <td>0.830107</td>\n",
       "      <td>1.0</td>\n",
       "      <td>0.375539</td>\n",
       "      <td>-1.758045</td>\n",
       "      <td>1.090723</td>\n",
       "    </tr>\n",
       "    <tr>\n",
       "      <th>5</th>\n",
       "      <td>promo</td>\n",
       "      <td>0.0</td>\n",
       "      <td>1.0</td>\n",
       "      <td>1.0</td>\n",
       "      <td>0.381515</td>\n",
       "      <td>0.0</td>\n",
       "      <td>0.485759</td>\n",
       "      <td>0.487838</td>\n",
       "      <td>-1.762018</td>\n",
       "    </tr>\n",
       "    <tr>\n",
       "      <th>6</th>\n",
       "      <td>school_holiday</td>\n",
       "      <td>0.0</td>\n",
       "      <td>1.0</td>\n",
       "      <td>1.0</td>\n",
       "      <td>0.178647</td>\n",
       "      <td>0.0</td>\n",
       "      <td>0.383056</td>\n",
       "      <td>1.677842</td>\n",
       "      <td>0.815154</td>\n",
       "    </tr>\n",
       "    <tr>\n",
       "      <th>7</th>\n",
       "      <td>competition_distance</td>\n",
       "      <td>20.0</td>\n",
       "      <td>200000.0</td>\n",
       "      <td>199980.0</td>\n",
       "      <td>5935.442677</td>\n",
       "      <td>2330.0</td>\n",
       "      <td>12547.652996</td>\n",
       "      <td>10.242344</td>\n",
       "      <td>147.789712</td>\n",
       "    </tr>\n",
       "    <tr>\n",
       "      <th>8</th>\n",
       "      <td>competition_open_since_month</td>\n",
       "      <td>1.0</td>\n",
       "      <td>12.0</td>\n",
       "      <td>11.0</td>\n",
       "      <td>6.786849</td>\n",
       "      <td>7.0</td>\n",
       "      <td>3.311087</td>\n",
       "      <td>-0.042076</td>\n",
       "      <td>-1.232607</td>\n",
       "    </tr>\n",
       "    <tr>\n",
       "      <th>9</th>\n",
       "      <td>competition_open_since_year</td>\n",
       "      <td>1900.0</td>\n",
       "      <td>2015.0</td>\n",
       "      <td>115.0</td>\n",
       "      <td>2010.324840</td>\n",
       "      <td>2012.0</td>\n",
       "      <td>5.515593</td>\n",
       "      <td>-7.235657</td>\n",
       "      <td>124.071304</td>\n",
       "    </tr>\n",
       "    <tr>\n",
       "      <th>10</th>\n",
       "      <td>promo2</td>\n",
       "      <td>0.0</td>\n",
       "      <td>1.0</td>\n",
       "      <td>1.0</td>\n",
       "      <td>0.500564</td>\n",
       "      <td>1.0</td>\n",
       "      <td>0.500000</td>\n",
       "      <td>-0.002255</td>\n",
       "      <td>-1.999999</td>\n",
       "    </tr>\n",
       "    <tr>\n",
       "      <th>11</th>\n",
       "      <td>promo2_since_week</td>\n",
       "      <td>0.0</td>\n",
       "      <td>50.0</td>\n",
       "      <td>50.0</td>\n",
       "      <td>13.144977</td>\n",
       "      <td>6.0</td>\n",
       "      <td>14.289221</td>\n",
       "      <td>1.064024</td>\n",
       "      <td>-0.334786</td>\n",
       "    </tr>\n",
       "    <tr>\n",
       "      <th>12</th>\n",
       "      <td>promo2_since_year</td>\n",
       "      <td>2009.0</td>\n",
       "      <td>2015.0</td>\n",
       "      <td>6.0</td>\n",
       "      <td>2012.793297</td>\n",
       "      <td>2013.0</td>\n",
       "      <td>1.662658</td>\n",
       "      <td>-0.784436</td>\n",
       "      <td>-0.210075</td>\n",
       "    </tr>\n",
       "    <tr>\n",
       "      <th>13</th>\n",
       "      <td>is_promo</td>\n",
       "      <td>0.0</td>\n",
       "      <td>1.0</td>\n",
       "      <td>1.0</td>\n",
       "      <td>0.165966</td>\n",
       "      <td>0.0</td>\n",
       "      <td>0.372050</td>\n",
       "      <td>1.795644</td>\n",
       "      <td>1.224338</td>\n",
       "    </tr>\n",
       "  </tbody>\n",
       "</table>\n",
       "</div>"
      ],
      "text/plain": [
       "                      attributes     min       max     range         mean  median           std       skew    kurtosis\n",
       "0                          store     1.0    1115.0    1114.0   558.429727   558.0    321.908651  -0.000955   -1.200524\n",
       "1                    day_of_week     1.0       7.0       6.0     3.998341     4.0      1.997391   0.001593   -1.246873\n",
       "2                          sales     0.0   41551.0   41551.0  5773.818972  5744.0   3849.926175   0.641460    1.778375\n",
       "3                      customers     0.0    7388.0    7388.0   633.145946   609.0    464.411734   1.598650    7.091773\n",
       "4                           open     0.0       1.0       1.0     0.830107     1.0      0.375539  -1.758045    1.090723\n",
       "5                          promo     0.0       1.0       1.0     0.381515     0.0      0.485759   0.487838   -1.762018\n",
       "6                 school_holiday     0.0       1.0       1.0     0.178647     0.0      0.383056   1.677842    0.815154\n",
       "7           competition_distance    20.0  200000.0  199980.0  5935.442677  2330.0  12547.652996  10.242344  147.789712\n",
       "8   competition_open_since_month     1.0      12.0      11.0     6.786849     7.0      3.311087  -0.042076   -1.232607\n",
       "9    competition_open_since_year  1900.0    2015.0     115.0  2010.324840  2012.0      5.515593  -7.235657  124.071304\n",
       "10                        promo2     0.0       1.0       1.0     0.500564     1.0      0.500000  -0.002255   -1.999999\n",
       "11             promo2_since_week     0.0      50.0      50.0    13.144977     6.0     14.289221   1.064024   -0.334786\n",
       "12             promo2_since_year  2009.0    2015.0       6.0  2012.793297  2013.0      1.662658  -0.784436   -0.210075\n",
       "13                      is_promo     0.0       1.0       1.0     0.165966     0.0      0.372050   1.795644    1.224338"
      ]
     },
     "execution_count": 28,
     "metadata": {},
     "output_type": "execute_result"
    }
   ],
   "source": [
    "metrics"
   ]
  },
  {
   "cell_type": "code",
   "execution_count": 29,
   "metadata": {
    "ExecuteTime": {
     "end_time": "2020-06-29T15:29:54.134522Z",
     "start_time": "2020-06-29T15:29:51.422486Z"
    },
    "hidden": true
   },
   "outputs": [
    {
     "data": {
      "text/plain": [
       "<matplotlib.axes._subplots.AxesSubplot at 0x7fb114be1c10>"
      ]
     },
     "execution_count": 29,
     "metadata": {},
     "output_type": "execute_result"
    },
    {
     "data": {
      "image/png": "[encoded data removed]",
      "text/plain": [
       "<Figure size 1800x864 with 1 Axes>"
      ]
     },
     "metadata": {},
     "output_type": "display_data"
    }
   ],
   "source": [
    "# Sales Distribution\n",
    "sns.distplot(df1['sales'])\n",
    "\n",
    "# as you see the most of volum of sales it's closer of zero, why?"
   ]
  },
  {
   "cell_type": "markdown",
   "metadata": {
    "heading_collapsed": true
   },
   "source": [
    "#### 1.7.2 Categorical"
   ]
  },
  {
   "cell_type": "code",
   "execution_count": 30,
   "metadata": {
    "ExecuteTime": {
     "end_time": "2020-06-29T15:30:05.846473Z",
     "start_time": "2020-06-29T15:30:05.173530Z"
    },
    "hidden": true,
    "scrolled": true
   },
   "outputs": [
    {
     "data": {
      "text/html": [
       "<div>\n",
       "<style scoped>\n",
       "    .dataframe tbody tr th:only-of-type {\n",
       "        vertical-align: middle;\n",
       "    }\n",
       "\n",
       "    .dataframe tbody tr th {\n",
       "        vertical-align: top;\n",
       "    }\n",
       "\n",
       "    .dataframe thead th {\n",
       "        text-align: right;\n",
       "    }\n",
       "</style>\n",
       "<table border=\"1\" class=\"dataframe\">\n",
       "  <thead>\n",
       "    <tr style=\"text-align: right;\">\n",
       "      <th></th>\n",
       "      <th>state_holiday</th>\n",
       "      <th>store_type</th>\n",
       "      <th>assortment</th>\n",
       "      <th>promo_interval</th>\n",
       "      <th>month_map</th>\n",
       "    </tr>\n",
       "  </thead>\n",
       "  <tbody>\n",
       "    <tr>\n",
       "      <th>count</th>\n",
       "      <td>1017209</td>\n",
       "      <td>1017209</td>\n",
       "      <td>1017209</td>\n",
       "      <td>1017209</td>\n",
       "      <td>1017209</td>\n",
       "    </tr>\n",
       "    <tr>\n",
       "      <th>unique</th>\n",
       "      <td>5</td>\n",
       "      <td>4</td>\n",
       "      <td>3</td>\n",
       "      <td>4</td>\n",
       "      <td>12</td>\n",
       "    </tr>\n",
       "    <tr>\n",
       "      <th>top</th>\n",
       "      <td>0</td>\n",
       "      <td>a</td>\n",
       "      <td>a</td>\n",
       "      <td>0</td>\n",
       "      <td>May</td>\n",
       "    </tr>\n",
       "    <tr>\n",
       "      <th>freq</th>\n",
       "      <td>855087</td>\n",
       "      <td>551627</td>\n",
       "      <td>537445</td>\n",
       "      <td>508031</td>\n",
       "      <td>103695</td>\n",
       "    </tr>\n",
       "  </tbody>\n",
       "</table>\n",
       "</div>"
      ],
      "text/plain": [
       "       state_holiday store_type assortment  promo_interval month_map\n",
       "count        1017209    1017209    1017209         1017209   1017209\n",
       "unique             5          4          3               4        12\n",
       "top                0          a          a               0       May\n",
       "freq          855087     551627     537445          508031    103695"
      ]
     },
     "execution_count": 30,
     "metadata": {},
     "output_type": "execute_result"
    }
   ],
   "source": [
    "cat_attributes.describe(include='all')"
   ]
  },
  {
   "cell_type": "code",
   "execution_count": 31,
   "metadata": {
    "ExecuteTime": {
     "end_time": "2020-06-29T15:30:05.850546Z",
     "start_time": "2020-06-29T15:30:05.848697Z"
    },
    "code_folding": [
     0
    ],
    "hidden": true,
    "scrolled": false
   },
   "outputs": [],
   "source": [
    "#sns.boxplot(x='state_holiday', y='sales', data=df1)\n",
    "# as you see that's impossible understand something, probably because the range it's so long and there are\n",
    "# a \"0\" in the state_holiday, it's possible in that state_holiday==0 is close store, let's get off the 0"
   ]
  },
  {
   "cell_type": "code",
   "execution_count": 32,
   "metadata": {
    "ExecuteTime": {
     "end_time": "2020-06-29T15:30:06.335085Z",
     "start_time": "2020-06-29T15:30:05.852269Z"
    },
    "hidden": true
   },
   "outputs": [],
   "source": [
    "aux_filt_sh = df1[(df1['state_holiday'] != 0)&(df1['state_holiday'] != '0')]                 "
   ]
  },
  {
   "cell_type": "code",
   "execution_count": 33,
   "metadata": {
    "ExecuteTime": {
     "end_time": "2020-06-29T15:30:06.720734Z",
     "start_time": "2020-06-29T15:30:06.336584Z"
    },
    "code_folding": [
     0
    ],
    "hidden": true
   },
   "outputs": [],
   "source": [
    "#sns.boxplot(x='state_holiday', y='sales', data=aux_filt_sh)\n",
    "\n",
    "# this case it's not solve the problem because the sales it's most closer at '0', in this case I think one solution is\n",
    "# do filter when take above '0' otherwords up of zero it's like a (sale > zero), let's try"
   ]
  },
  {
   "cell_type": "code",
   "execution_count": 34,
   "metadata": {
    "ExecuteTime": {
     "end_time": "2020-06-29T15:30:07.105565Z",
     "start_time": "2020-06-29T15:30:06.788858Z"
    },
    "hidden": true
   },
   "outputs": [
    {
     "name": "stdout",
     "output_type": "stream",
     "text": [
      "count of each\n"
     ]
    },
    {
     "data": {
      "text/plain": [
       "a    694\n",
       "b    145\n",
       "c     71\n",
       "Name: state_holiday, dtype: int64"
      ]
     },
     "execution_count": 34,
     "metadata": {},
     "output_type": "execute_result"
    },
    {
     "data": {
      "image/png": "[encoded data removed]",
      "text/plain": [
       "<Figure size 1800x864 with 1 Axes>"
      ]
     },
     "metadata": {},
     "output_type": "display_data"
    }
   ],
   "source": [
    "sns.boxplot(x='state_holiday', y='sales', data=aux_filt_sh[aux_filt_sh.sales > 0])\n",
    "print('count of each')\n",
    "aux_filt_sh['state_holiday'][aux_filt_sh.sales > 0].value_counts()\n",
    "\n",
    "# OK! that's right now, but let's compare the others categorical columns"
   ]
  },
  {
   "cell_type": "code",
   "execution_count": 35,
   "metadata": {
    "ExecuteTime": {
     "end_time": "2020-06-29T15:30:08.178915Z",
     "start_time": "2020-06-29T15:30:07.237539Z"
    },
    "hidden": true
   },
   "outputs": [
    {
     "data": {
      "image/png": "[encoded data removed]",
      "text/plain": [
       "<Figure size 1800x864 with 5 Axes>"
      ]
     },
     "metadata": {},
     "output_type": "display_data"
    }
   ],
   "source": [
    "# plotting filtering only holidays, otherwords, nothing a normal days and sales up than zero (sales > 0)\n",
    "cont = 1\n",
    "for cat in cat_attributes.head():\n",
    "    plt.subplot(1, cat_attributes.shape[1], cont)\n",
    "    sns.boxplot(x=cat, y='sales', data=aux_filt_sh[aux_filt_sh.sales > 0])\n",
    "    cont += 1"
   ]
  },
  {
   "cell_type": "code",
   "execution_count": 36,
   "metadata": {
    "ExecuteTime": {
     "end_time": "2020-06-29T15:30:44.483153Z",
     "start_time": "2020-06-29T15:30:08.181842Z"
    },
    "hidden": true
   },
   "outputs": [
    {
     "data": {
      "image/png": "[encoded data removed]",
      "text/plain": [
       "<Figure size 1800x864 with 5 Axes>"
      ]
     },
     "metadata": {},
     "output_type": "display_data"
    }
   ],
   "source": [
    "# Let's see bellow the total data to compare with only holidays above ^\n",
    "cont = 1\n",
    "for cat in cat_attributes.head():\n",
    "    plt.subplot(1, cat_attributes.shape[1], cont)\n",
    "    sns.boxplot(x=cat, y='sales', data=df1[df1['sales'] > 0])\n",
    "    cont += 1"
   ]
  },
  {
   "cell_type": "markdown",
   "metadata": {},
   "source": [
    "## 2.0. Feature Engineering"
   ]
  },
  {
   "cell_type": "markdown",
   "metadata": {
    "ExecuteTime": {
     "end_time": "2020-06-27T19:42:54.436543Z",
     "start_time": "2020-06-27T19:42:54.428666Z"
    },
    "heading_collapsed": true
   },
   "source": [
    "### 2.1. Hypothesis Mind Map"
   ]
  },
  {
   "cell_type": "code",
   "execution_count": 37,
   "metadata": {
    "ExecuteTime": {
     "end_time": "2020-06-28T18:23:38.107002Z",
     "start_time": "2020-06-28T18:23:38.100412Z"
    },
    "code_folding": [
     0
    ],
    "hidden": true
   },
   "outputs": [
    {
     "data": {
      "image/png": "[encoded data removed]",
      "text/plain": [
       "<IPython.core.display.Image object>"
      ]
     },
     "execution_count": 37,
     "metadata": {},
     "output_type": "execute_result"
    }
   ],
   "source": [
    "# MindMap to possible hyphotesis list\n",
    "# Importing Mid Map builded in the coggle site\n",
    "Image('img/rossamann_mid_map_hypothesis.png')\n",
    "\n",
    "# To build a Hyphotesis MindMap you will must three asks\n",
    "# 1-> Fenomeno | 2->Agents or Entities | 3->Attributes"
   ]
  },
  {
   "cell_type": "markdown",
   "metadata": {
    "heading_collapsed": true
   },
   "source": [
    "### 2.2. Building Hypothesis List"
   ]
  },
  {
   "cell_type": "markdown",
   "metadata": {
    "ExecuteTime": {
     "end_time": "2020-06-27T15:19:46.043346Z",
     "start_time": "2020-06-27T15:19:46.036883Z"
    },
    "heading_collapsed": true,
    "hidden": true
   },
   "source": [
    "#### 2.2.1. Store"
   ]
  },
  {
   "cell_type": "markdown",
   "metadata": {
    "ExecuteTime": {
     "end_time": "2020-06-27T20:44:50.203350Z",
     "start_time": "2020-06-27T20:44:50.189707Z"
    },
    "hidden": true
   },
   "source": [
    "<input type=\"checkbox\" checked> **_1.** It's supposed to more assortments more sale\n",
    "\n",
    "<input type=\"checkbox\">**_2.** It's supposed to how much bigger store, more sale\n",
    "\n",
    "<input type=\"checkbox\">**_3.** It's supposed to how much more a numbers of employers, more sale\n",
    "\n",
    "<input type=\"checkbox\">**_4.** It's supposed how much more stock more sale\n",
    "\n",
    "<input type=\"checkbox\" checked>**_5.** It's supposed to how less competitors closer, more sale\n",
    "\n"
   ]
  },
  {
   "cell_type": "markdown",
   "metadata": {
    "ExecuteTime": {
     "end_time": "2020-06-27T15:19:46.043346Z",
     "start_time": "2020-06-27T15:19:46.036883Z"
    },
    "heading_collapsed": true,
    "hidden": true
   },
   "source": [
    "#### 2.2.2. Products"
   ]
  },
  {
   "cell_type": "markdown",
   "metadata": {
    "ExecuteTime": {
     "end_time": "2020-06-27T20:10:55.775010Z",
     "start_time": "2020-06-27T20:10:55.768218Z"
    },
    "hidden": true
   },
   "source": [
    "<input type=\"checkbox\"> **1.** It's supposed to how much more investments in marketing, more sale\n",
    "\n",
    "<input type=\"checkbox\"> **2.** It's supposed to how much exposition products, sale more\n",
    "\n",
    "<input type=\"checkbox\"> **3.** It's supposed to how much product lesser price, more sale\n",
    "\n",
    "<input type=\"checkbox\"> **4.** It's supposed to how much more discounts or agressive promotion, more sale"
   ]
  },
  {
   "cell_type": "markdown",
   "metadata": {
    "ExecuteTime": {
     "end_time": "2020-06-27T15:19:46.043346Z",
     "start_time": "2020-06-27T15:19:46.036883Z"
    },
    "heading_collapsed": true,
    "hidden": true
   },
   "source": [
    "#### 2.2.3. Time"
   ]
  },
  {
   "cell_type": "markdown",
   "metadata": {
    "hidden": true
   },
   "source": [
    "<input type=\"checkbox\" checked> **1.** It's supposed to on the weekend you will sales less\n",
    "\n",
    "<input type=\"checkbox\"> **2.** It's supposed to on the night sale more\n",
    "\n",
    "<input type=\"checkbox\"> **3.** It's supposed to there are a cycle each year that sale more and less\n",
    "\n",
    "<input type=\"checkbox\"> **4.** It's supposed to on the monday sale more\n",
    "\n",
    "<input type=\"checkbox\"> **5.** It's supposed to on the holidays sale less\n",
    "\n",
    "<input type=\"checkbox\"> **6.** It's supposed to on days that the clients recieve the salary, sale more\n",
    "\n",
    "<input type=\"checkbox\"> **7.** It's supposed to on the months in the winter sale more\n",
    "\n",
    "<input type=\"checkbox\"> **8.** It's supposed to on the end's month sale more because the \"on-sale\" promotion\n",
    "\n",
    "<input type=\"checkbox\" checked> **9.** It's supposed to the store open in the christmas holiday sale more\n",
    "\n",
    "<input type=\"checkbox\" checked> **10.** It's supposed to how much older the store, more sale\n",
    "\n",
    "<input type=\"checkbox\" checked> **11.** It's supposed to sale more in the second semester\n",
    "\n",
    "<input type=\"checkbox\" checked> **12.** It's supposed to sale more after day 10 from each month\n",
    "\n",
    "<input type=\"checkbox\" checked> **13.** It's supposed to holidays school sale less\n",
    "\n",
    "<input type=\"checkbox\" checked> **14.** It's supposed to how much more long time competitors, more sale\n",
    "\n",
    "<input type=\"checkbox\" checked> **15.** It's supposed to how much longer time promotion active, more sale\n",
    "\n",
    "<input type=\"checkbox\" checked> **16.** It's supposed to how much days in promotion, more sale\n",
    "\n",
    "<input type=\"checkbox\" checked> **17.** It's supposed to how much consecutives promotion, more sale"
   ]
  },
  {
   "cell_type": "markdown",
   "metadata": {
    "ExecuteTime": {
     "end_time": "2020-06-27T15:19:46.043346Z",
     "start_time": "2020-06-27T15:19:46.036883Z"
    },
    "heading_collapsed": true,
    "hidden": true
   },
   "source": [
    "#### 2.2.3. Clients"
   ]
  },
  {
   "cell_type": "markdown",
   "metadata": {
    "ExecuteTime": {
     "end_time": "2020-06-27T20:44:50.203350Z",
     "start_time": "2020-06-27T20:44:50.189707Z"
    },
    "hidden": true
   },
   "source": [
    "<input type=\"checkbox\"> **1.** It's Supposed to how much bigger salary less sale\n",
    "\n",
    "<input type=\"checkbox\"> **2.** It's supposed to how much more class \"C\", more sale <a href=\"https://www.ictq.com.br/varejo-farmaceutico/405-perfil-do-consumidor-de-medicamentos\">Article Font Link</a> \n",
    "\n",
    "<input type=\"checkbox\"> **3.** It's supposed to female buy more than male <a href=\"https://www.ictq.com.br/varejo-farmaceutico/405-perfil-do-consumidor-de-medicamentos\">Article Font Link</a>\n",
    "\n",
    "<input type=\"checkbox\"> **4.** It's supposed to how much more frequency more sale\n",
    "\n",
    "<input type=\"checkbox\"> **5.** It's supposed to how much more mean ticket, more sale\n",
    "\n",
    "<input type=\"checkbox\"> **6.** It's supposed to how much more volum sale, more sale\n",
    "\n",
    "<input type=\"checkbox\"> **7.** It's supposed to how children, more sale\n",
    "\n",
    "<input type=\"checkbox\"> **8.** It's supposed to how much more age, more sale\n",
    "\n",
    "<input type=\"checkbox\"> **9.** It's supposed to how much more simple occupation client, more sale\n",
    "\n",
    "<input type=\"checkbox\"> **10.** It's supposed to how much more degree graduation, less sale <a href=\"https://www.ictq.com.br/varejo-farmaceutico/405-perfil-do-consumidor-de-medicamentos\">Article Font Link</a>\n",
    "\n",
    "<input type=\"checkbox\"> **11.** It's supposed to how much more members from family, more sale"
   ]
  },
  {
   "cell_type": "markdown",
   "metadata": {
    "ExecuteTime": {
     "end_time": "2020-06-27T15:19:46.043346Z",
     "start_time": "2020-06-27T15:19:46.036883Z"
    },
    "heading_collapsed": true,
    "hidden": true
   },
   "source": [
    "#### 2.2.5. Location"
   ]
  },
  {
   "cell_type": "markdown",
   "metadata": {
    "hidden": true
   },
   "source": [
    "<input type=\"checkbox\"> **1.** It's supposed to store location is in a town, more sale\n",
    "\n",
    "<input type=\"checkbox\"> **2.** It's supposed to how much closer store by hospital, more sale\n",
    "\n",
    "<input type=\"checkbox\"> **3.** It's supposed to how much closer school, more sale\n",
    "\n",
    "<input type=\"checkbox\"> **4.** It's supposed to how much the neighborhood closer by town, more sale\n",
    "\n",
    "<input type=\"checkbox\"> **5.** It's supposed to hurban store saler more than rural"
   ]
  },
  {
   "cell_type": "markdown",
   "metadata": {
    "ExecuteTime": {
     "end_time": "2020-06-27T19:40:05.301522Z",
     "start_time": "2020-06-27T19:40:05.291764Z"
    },
    "heading_collapsed": true
   },
   "source": [
    "### 2.3. Priority Hypothesis List"
   ]
  },
  {
   "cell_type": "markdown",
   "metadata": {
    "ExecuteTime": {
     "end_time": "2020-06-28T12:23:55.130952Z",
     "start_time": "2020-06-28T12:23:55.109318Z"
    },
    "hidden": true
   },
   "source": [
    "<input type=\"checkbox\"> **1.** It's supposed to more assortments more sale\n",
    "\n",
    "<input type=\"checkbox\"> **2.** It's supposed to how less competitors closer, more sale\n",
    "\n",
    "<input type=\"checkbox\"> **3.** It's supposed to how much more long time competitors, more sale\n",
    "\n",
    "<input type=\"checkbox\"> **4** It's supposed to how much longer time promotion active, more sale\n",
    "\n",
    "<input type=\"checkbox\"> **5.** It's supposed to how much days in promotion, more sale\n",
    "\n",
    "<input type=\"checkbox\"> **6.** It's supposed to how much consecutives promotion, more sale\n",
    "\n",
    "<input type=\"checkbox\"> **7.** It's supposed to the store open in the christmas holiday sale more\n",
    "\n",
    "<input type=\"checkbox\"> **8.** It's supposed to how much older the store, more sale\n",
    "\n",
    "<input type=\"checkbox\"> **9.** It's supposed to sale more in the second semester\n",
    "\n",
    "<input type=\"checkbox\"> **10.** It's supposed to sale more after day 10 from each month\n",
    "\n",
    "<input type=\"checkbox\"> **11.** It's supposed to on the weekend you will sales less\n",
    "\n",
    "<input type=\"checkbox\"> **12.** It's supposed to holidays school sale less"
   ]
  },
  {
   "cell_type": "markdown",
   "metadata": {
    "ExecuteTime": {
     "end_time": "2020-06-28T13:44:38.688221Z",
     "start_time": "2020-06-28T13:44:38.683476Z"
    }
   },
   "source": [
    "### 2.4. Feature Engineering"
   ]
  },
  {
   "cell_type": "markdown",
   "metadata": {},
   "source": [
    "#### 2.4.1 Derivates Features"
   ]
  },
  {
   "cell_type": "code",
   "execution_count": 104,
   "metadata": {
    "ExecuteTime": {
     "end_time": "2020-06-29T17:19:46.946930Z",
     "start_time": "2020-06-29T17:19:42.513171Z"
    }
   },
   "outputs": [],
   "source": [
    "# New dataframe to build features\n",
    "df2 = pd.DataFrame()\n",
    "\n",
    "# copy of date\n",
    "df2['date'] = df1['date'].copy()\n",
    "\n",
    "# year\n",
    "df2['year'] = df1['date'].dt.year\n",
    "\n",
    "# month\n",
    "df2['month'] = df1['date'].dt.month\n",
    "\n",
    "# day\n",
    "df2['day'] = df1['date'].dt.day\n",
    "\n",
    "# week of year\n",
    "df2['week_of_year'] = df1['date'].dt.weekofyear\n",
    "\n",
    "# year week\n",
    "df2['year_week'] = df1['date'].dt.strftime('%Y-%W')\n",
    "\n",
    "# day of week\n",
    "df2['day_of_week'] = df1['day_of_week'].copy()"
   ]
  },
  {
   "cell_type": "code",
   "execution_count": 105,
   "metadata": {
    "ExecuteTime": {
     "end_time": "2020-06-29T17:20:21.578757Z",
     "start_time": "2020-06-29T17:19:46.948432Z"
    }
   },
   "outputs": [],
   "source": [
    "# competition since\n",
    "df2['competition_since'] = df1.apply(lambda x: datetime.datetime(year=x['competition_open_since_year'], month=x['competition_open_since_month'], day=1), axis=1)\n",
    "df2['competition_time_month'] = ((df1['date'] - df2['competition_since'])/30).apply( lambda x: x.days )"
   ]
  },
  {
   "cell_type": "code",
   "execution_count": 106,
   "metadata": {
    "ExecuteTime": {
     "end_time": "2020-06-29T17:20:46.828494Z",
     "start_time": "2020-06-29T17:20:24.969912Z"
    }
   },
   "outputs": [],
   "source": [
    "# promo since\n",
    "df2['promo_since'] = df1['promo2_since_year'].astype( str \n",
    "    ) +'-'+ df1['promo2_since_week'].astype( str )\n",
    "\n",
    "df2['promo_since'] = df2['promo_since'].apply(\n",
    "    lambda x: datetime.datetime.strptime( \n",
    "    x +'-1', '%Y-%W-%w' ) - datetime.timedelta(days=7))\n",
    "\n",
    "# since time week in promotion\n",
    "df2['promo_time_week'] = ((df2['date'] - df2['promo_since'])/7).apply( lambda x: x.days ).astype( int )"
   ]
  },
  {
   "cell_type": "code",
   "execution_count": 107,
   "metadata": {
    "ExecuteTime": {
     "end_time": "2020-06-29T17:20:46.929628Z",
     "start_time": "2020-06-29T17:20:46.830064Z"
    }
   },
   "outputs": [],
   "source": [
    "# assortments\n",
    "df2['assortment'] = df1['assortment'].map({'a':'basic', 'b':'extra', 'c':'extended'})"
   ]
  },
  {
   "cell_type": "code",
   "execution_count": 108,
   "metadata": {
    "ExecuteTime": {
     "end_time": "2020-06-29T17:20:47.090578Z",
     "start_time": "2020-06-29T17:20:46.931904Z"
    }
   },
   "outputs": [],
   "source": [
    "# state holiday\n",
    "map = {\n",
    "    '0':'regular_day',\n",
    "    'a':'public_holiday',\n",
    "    'b':'easter_holiday',\n",
    "    'c':'christmas'\n",
    "}\n",
    "\n",
    "df2['state_holiday'] = df1['state_holiday'].map(map)"
   ]
  },
  {
   "cell_type": "code",
   "execution_count": 109,
   "metadata": {
    "ExecuteTime": {
     "end_time": "2020-06-29T17:21:13.378451Z",
     "start_time": "2020-06-29T17:21:13.114472Z"
    }
   },
   "outputs": [
    {
     "data": {
      "text/html": [
       "<div>\n",
       "<style scoped>\n",
       "    .dataframe tbody tr th:only-of-type {\n",
       "        vertical-align: middle;\n",
       "    }\n",
       "\n",
       "    .dataframe tbody tr th {\n",
       "        vertical-align: top;\n",
       "    }\n",
       "\n",
       "    .dataframe thead th {\n",
       "        text-align: right;\n",
       "    }\n",
       "</style>\n",
       "<table border=\"1\" class=\"dataframe\">\n",
       "  <thead>\n",
       "    <tr style=\"text-align: right;\">\n",
       "      <th></th>\n",
       "      <th>date</th>\n",
       "      <th>year</th>\n",
       "      <th>month</th>\n",
       "      <th>day</th>\n",
       "      <th>week_of_year</th>\n",
       "      <th>year_week</th>\n",
       "      <th>day_of_week</th>\n",
       "      <th>competition_since</th>\n",
       "      <th>competition_time_month</th>\n",
       "      <th>promo_since</th>\n",
       "      <th>promo_time_week</th>\n",
       "      <th>assortment</th>\n",
       "      <th>state_holiday</th>\n",
       "    </tr>\n",
       "  </thead>\n",
       "  <tbody>\n",
       "    <tr>\n",
       "      <th>587817</th>\n",
       "      <td>2014-01-21</td>\n",
       "      <td>2014</td>\n",
       "      <td>1</td>\n",
       "      <td>21</td>\n",
       "      <td>4</td>\n",
       "      <td>2014-03</td>\n",
       "      <td>2</td>\n",
       "      <td>2005-09-01</td>\n",
       "      <td>102</td>\n",
       "      <td>2013-01-28</td>\n",
       "      <td>51</td>\n",
       "      <td>basic</td>\n",
       "      <td>NaN</td>\n",
       "    </tr>\n",
       "    <tr>\n",
       "      <th>215274</th>\n",
       "      <td>2015-01-19</td>\n",
       "      <td>2015</td>\n",
       "      <td>1</td>\n",
       "      <td>19</td>\n",
       "      <td>4</td>\n",
       "      <td>2015-03</td>\n",
       "      <td>1</td>\n",
       "      <td>2015-01-01</td>\n",
       "      <td>0</td>\n",
       "      <td>2014-12-22</td>\n",
       "      <td>4</td>\n",
       "      <td>basic</td>\n",
       "      <td>regular_day</td>\n",
       "    </tr>\n",
       "    <tr>\n",
       "      <th>228130</th>\n",
       "      <td>2015-01-08</td>\n",
       "      <td>2015</td>\n",
       "      <td>1</td>\n",
       "      <td>8</td>\n",
       "      <td>2</td>\n",
       "      <td>2015-01</td>\n",
       "      <td>4</td>\n",
       "      <td>2008-02-01</td>\n",
       "      <td>84</td>\n",
       "      <td>2010-09-20</td>\n",
       "      <td>224</td>\n",
       "      <td>extended</td>\n",
       "      <td>regular_day</td>\n",
       "    </tr>\n",
       "    <tr>\n",
       "      <th>186965</th>\n",
       "      <td>2015-02-14</td>\n",
       "      <td>2015</td>\n",
       "      <td>2</td>\n",
       "      <td>14</td>\n",
       "      <td>7</td>\n",
       "      <td>2015-06</td>\n",
       "      <td>6</td>\n",
       "      <td>2012-09-01</td>\n",
       "      <td>29</td>\n",
       "      <td>2015-01-26</td>\n",
       "      <td>2</td>\n",
       "      <td>basic</td>\n",
       "      <td>regular_day</td>\n",
       "    </tr>\n",
       "    <tr>\n",
       "      <th>456258</th>\n",
       "      <td>2014-05-19</td>\n",
       "      <td>2014</td>\n",
       "      <td>5</td>\n",
       "      <td>19</td>\n",
       "      <td>21</td>\n",
       "      <td>2014-20</td>\n",
       "      <td>1</td>\n",
       "      <td>2004-07-01</td>\n",
       "      <td>120</td>\n",
       "      <td>2014-03-03</td>\n",
       "      <td>11</td>\n",
       "      <td>basic</td>\n",
       "      <td>regular_day</td>\n",
       "    </tr>\n",
       "  </tbody>\n",
       "</table>\n",
       "</div>"
      ],
      "text/plain": [
       "             date  year  month  day  week_of_year year_week  day_of_week competition_since  competition_time_month promo_since  promo_time_week assortment state_holiday\n",
       "587817 2014-01-21  2014      1   21             4   2014-03            2        2005-09-01                     102  2013-01-28               51      basic           NaN\n",
       "215274 2015-01-19  2015      1   19             4   2015-03            1        2015-01-01                       0  2014-12-22                4      basic   regular_day\n",
       "228130 2015-01-08  2015      1    8             2   2015-01            4        2008-02-01                      84  2010-09-20              224   extended   regular_day\n",
       "186965 2015-02-14  2015      2   14             7   2015-06            6        2012-09-01                      29  2015-01-26                2      basic   regular_day\n",
       "456258 2014-05-19  2014      5   19            21   2014-20            1        2004-07-01                     120  2014-03-03               11      basic   regular_day"
      ]
     },
     "execution_count": 109,
     "metadata": {},
     "output_type": "execute_result"
    }
   ],
   "source": [
    "df2.sample(5)"
   ]
  }
 ],
 "metadata": {
  "kernelspec": {
   "display_name": "Python 3",
   "language": "python",
   "name": "python3"
  },
  "language_info": {
   "codemirror_mode": {
    "name": "ipython",
    "version": 3
   },
   "file_extension": ".py",
   "mimetype": "text/x-python",
   "name": "python",
   "nbconvert_exporter": "python",
   "pygments_lexer": "ipython3",
   "version": "3.8.2"
  }
 },
 "nbformat": 4,
 "nbformat_minor": 4
}
